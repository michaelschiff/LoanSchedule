{
 "metadata": {
  "name": "",
  "signature": "sha256:056f783cec6435fc8e64ac9abe8b2956bf4e573e33fc6ffd3e15b7d70057aad7"
 },
 "nbformat": 3,
 "nbformat_minor": 0,
 "worksheets": [
  {
   "cells": [
    {
     "cell_type": "heading",
     "level": 1,
     "metadata": {},
     "source": [
      "Optimal Loan Payment Scheduling"
     ]
    },
    {
     "cell_type": "code",
     "collapsed": false,
     "input": [
      "def compound_interest(principle, rate, periods):\n",
      "    r = rate / 100.0\n",
      "    return principle * ((1+r)**periods)"
     ],
     "language": "python",
     "metadata": {},
     "outputs": [],
     "prompt_number": 1
    },
    {
     "cell_type": "code",
     "collapsed": false,
     "input": [
      "L = {\n",
      "    'A': (5.75/365.25, 1604.34),\n",
      "    'B': (5.75/365.25, 1604.34),\n",
      "    'C': (5.35/365.25, 2056.66),\n",
      "    'D': (5.35/365.25, 2056.77),\n",
      "    'E': (4.25/365.25, 4997.91),\n",
      "    'F': (6.55/365.25, 1072.94),\n",
      "    'G': (6.55/365.25, 1072.92),\n",
      "    'H': (6.55/365.25, 1072.94),\n",
      "    'I': (6.55/365.25, 1072.42),\n",
      "    'J': (6.55/365.25, 2134.74),\n",
      "    'K': (3.15/365.25, 4853.32),\n",
      "    'L': (3.15/365.25, 268.08)\n",
      "}"
     ],
     "language": "python",
     "metadata": {},
     "outputs": [],
     "prompt_number": 2
    },
    {
     "cell_type": "code",
     "collapsed": false,
     "input": [
      "from collections import defaultdict\n",
      "import matplotlib.pyplot as plt\n",
      "\n",
      "projection = defaultdict(list)\n",
      "for k in L:\n",
      "    v = L[k]\n",
      "    projection[k].append(v[1])\n",
      "for i in range(120):\n",
      "    for k in projection:\n",
      "        previous_principle = projection[k][-1]\n",
      "        projection[k].append(compound_interest(previous_principle, L[k][0], 30))\n",
      "\n",
      "projection_plot = plt.figure()\n",
      "axes = projection_plot.add_axes([0.1, 0.1, 0.8, 0.8]) # left, bottom, width, height (range 0 to 1)\n",
      "for k in projection:\n",
      "    axes.plot(range(121), projection[k], 'g')"
     ],
     "language": "python",
     "metadata": {},
     "outputs": [
      {
       "metadata": {},
       "output_type": "display_data",
       "png": "[encoded data removed]",
       "text": [
        "<matplotlib.figure.Figure at 0x10eb674d0>"
       ]
      }
     ],
     "prompt_number": 3
    },
    {
     "cell_type": "markdown",
     "metadata": {},
     "source": [
      "Assume we are willing to put $X/period to our loans.  When deciding which loan to allocate that dollar to, we want to choose the loan that has the highest marginal cost of not allocating the dollar to it.  This is the loan that is contributing the most toward to total Future Value of the loans, or the loan for which (principle * interest) is the highest.  For each dollar we need to allocate, we can check which loan is contributing the most toward the total Future Value, and allocate the dollar to that loan."
     ]
    },
    {
     "cell_type": "code",
     "collapsed": false,
     "input": [
      "# Returns the loan with the greatest contribution to Future Value\n",
      "def max_loan(loans):\n",
      "    return max(loans, key = lambda key: loans[key][0] * loans[key][1])\n",
      "    \n",
      "    \n",
      "# given money, the set of loans, and a granularity of money, returns an allocation of money and \n",
      "# mutates the loans.\n",
      "def allocate(money, loans, granularity):\n",
      "    allocation = defaultdict(lambda : 0)\n",
      "    for i in range(money):\n",
      "        loan = max_loan(loans)\n",
      "        allocation[loan] += 1\n",
      "        loans[loan] = (loans[loan][0], max(0, loans[loan][1] - granularity))\n",
      "    return allocation\n",
      "\n",
      "\n",
      "def advance(loans, periods):\n",
      "    for k in loans:\n",
      "        loan = loans[k]\n",
      "        loans[k] = (loan[0], compound_interest(loan[1], loan[0], periods))"
     ],
     "language": "python",
     "metadata": {},
     "outputs": [],
     "prompt_number": 4
    },
    {
     "cell_type": "code",
     "collapsed": false,
     "input": [
      "while sum(map(lambda x: x[1], L.values())) > 0 :\n",
      "    allocation = allocate(500, L, 1)\n",
      "    advance(L, 30)\n",
      "    print str(allocation) + \" \" + str(sum(map(lambda x: x[1], L.values())))"
     ],
     "language": "python",
     "metadata": {},
     "outputs": [
      {
       "output_type": "stream",
       "stream": "stdout",
       "text": [
        "defaultdict(<function <lambda> at 0x10efe6050>, {'E': 500}) 23059.9757351\n",
        "defaultdict(<function <lambda> at 0x10eb5a488>, {'K': 51, 'E': 449}) 22654.335166\n",
        "defaultdict(<function <lambda> at 0x10efe6050>, {'K': 285, 'E': 215}) 22247.6245092\n",
        "defaultdict(<function <lambda> at 0x10eb5a488>, {'K': 230, 'J': 96, 'E': 174}) 21839.6092097\n",
        "defaultdict(<function <lambda> at 0x10efe6050>, {'K': 221, 'J': 112, 'E': 167}) 21430.2462467\n",
        "defaultdict(<function <lambda> at 0x10eb5a488>, {'K': 222, 'J': 112, 'E': 166}) 21019.5316799\n",
        "defaultdict(<function <lambda> at 0x10efe6050>, {'K': 221, 'J': 112, 'E': 167}) 20607.4597433\n",
        "defaultdict(<function <lambda> at 0x10eb5a488>, {'C': 48, 'K': 178, 'J': 91, 'E': 135, 'D': 48}) 20193.9393633"
       ]
      },
      {
       "output_type": "stream",
       "stream": "stdout",
       "text": [
        "\n",
        "defaultdict(<function <lambda> at 0x10efe6050>, {'K': 143, 'C': 88, 'J': 73, 'E': 108, 'D': 88}) 19778.8949447\n",
        "defaultdict(<function <lambda> at 0x10eb5a488>, {'K': 143, 'C': 88, 'J': 73, 'E': 108, 'D': 88}) 19362.3205278\n",
        "defaultdict(<function <lambda> at 0x10efe6050>, {'K': 143, 'C': 88, 'J': 73, 'E': 108, 'D': 88}) 18944.2101283\n",
        "defaultdict(<function <lambda> at 0x10eb5a488>, {'A': 42, 'C': 73, 'B': 42, 'E': 90, 'D': 73, 'K': 118, 'J': 62}) 18524.4792588\n",
        "defaultdict(<function <lambda> at 0x10efe6050>, {'A': 62, 'C': 66, 'B': 62, 'E': 82, 'D': 66, 'K': 107, 'J': 55}) 18103.0878258\n",
        "defaultdict(<function <lambda> at 0x10eb5a488>, {'A': 62, 'C': 66, 'B': 62, 'E': 81, 'D': 66, 'K': 107, 'J': 56}) 17680.0270282\n",
        "defaultdict(<function <lambda> at 0x10efe6050>, {'A': 62, 'C': 66, 'B': 62, 'E': 81, 'D': 66, 'K': 108, 'J': 55}) 17255.2927183\n",
        "defaultdict(<function <lambda> at 0x10eb5a488>, {'A': 62, 'C': 66, 'B': 62, 'E': 82, 'D': 66, 'K': 107, 'J': 55}) 16828.8770317\n",
        "defaultdict(<function <lambda> at 0x10efe6050>, {'A': 62, 'C': 66, 'B': 62, 'E': 81, 'D': 67, 'K': 107, 'J': 55}) 16400.7720673"
       ]
      },
      {
       "output_type": "stream",
       "stream": "stdout",
       "text": [
        "\n",
        "defaultdict(<function <lambda> at 0x10eb5a488>, {'A': 56, 'C': 60, 'B': 56, 'E': 74, 'D': 59, 'G': 12, 'F': 12, 'I': 11, 'H': 12, 'K': 97, 'J': 51}) 15970.9076914\n",
        "defaultdict(<function <lambda> at 0x10efe6050>, {'A': 43, 'C': 46, 'B': 43, 'E': 56, 'D': 46, 'G': 38, 'F': 39, 'I': 39, 'H': 38, 'K': 74, 'J': 38}) 15539.1337505\n",
        "defaultdict(<function <lambda> at 0x10eb5a488>, {'A': 43, 'C': 46, 'B': 43, 'E': 56, 'D': 46, 'G': 39, 'F': 38, 'I': 38, 'H': 39, 'K': 73, 'J': 39}) 15105.4385327\n",
        "defaultdict(<function <lambda> at 0x10efe6050>, {'A': 43, 'C': 46, 'B': 43, 'E': 56, 'D': 46, 'G': 38, 'F': 38, 'I': 39, 'H': 39, 'K': 74, 'J': 38}) 14669.8158675\n",
        "defaultdict(<function <lambda> at 0x10eb5a488>, {'A': 43, 'C': 45, 'B': 43, 'E': 56, 'D': 46, 'G': 39, 'F': 39, 'I': 38, 'H': 38, 'K': 74, 'J': 39}) 14232.2557698\n",
        "defaultdict(<function <lambda> at 0x10efe6050>, {'A': 43, 'C': 46, 'B': 43, 'E': 56, 'D': 46, 'G': 38, 'F': 38, 'I': 39, 'H': 39, 'K': 74, 'J': 38}) 13792.7501817\n",
        "defaultdict(<function <lambda> at 0x10eb5a488>, {'A': 43, 'C': 46, 'B': 43, 'E': 57, 'D': 45, 'G': 39, 'F': 39, 'I': 38, 'H': 38, 'K': 74, 'J': 38}) 13351.2909282\n",
        "defaultdict(<function <lambda> at 0x10efe6050>, {'A': 43, 'C': 46, 'B': 43, 'E': 56, 'D': 46, 'G': 38, 'F': 38, 'I': 39, 'H': 38, 'K': 74, 'J': 39}) 12907.8679835\n",
        "defaultdict(<function <lambda> at 0x10eb5a488>, {'A': 43, 'C': 46, 'B': 43, 'E': 56, 'D': 46, 'G': 38, 'F': 39, 'I': 38, 'H': 39, 'K': 74, 'J': 38}) 12462.4721776\n",
        "defaultdict(<function <lambda> at 0x10efe6050>, {'A': 43, 'C': 46, 'B': 43, 'E': 57, 'D': 46, 'G': 39, 'F': 38, 'I': 38, 'H': 38, 'K': 74, 'J': 38}) 12015.0961932\n",
        "defaultdict(<function <lambda> at 0x10eb5a488>, {'A': 43, 'C': 45, 'B': 43, 'E': 56, 'D': 46, 'G': 38, 'F': 38, 'I': 39, 'H': 38, 'K': 75, 'J': 39}) 11565.7307044"
       ]
      },
      {
       "output_type": "stream",
       "stream": "stdout",
       "text": [
        "\n",
        "defaultdict(<function <lambda> at 0x10efe6050>, {'A': 43, 'C': 46, 'B': 43, 'E': 57, 'D': 45, 'G': 38, 'F': 39, 'I': 38, 'H': 38, 'K': 75, 'J': 38}) 11114.3683174\n",
        "defaultdict(<function <lambda> at 0x10eb5a488>, {'A': 43, 'C': 46, 'B': 43, 'E': 56, 'D': 46, 'G': 39, 'F': 38, 'I': 38, 'H': 39, 'K': 74, 'J': 38}) 10660.9960029\n",
        "defaultdict(<function <lambda> at 0x10efe6050>, {'A': 43, 'C': 46, 'B': 43, 'E': 57, 'D': 46, 'G': 38, 'F': 38, 'I': 38, 'H': 38, 'K': 75, 'J': 38}) 10205.6090682\n",
        "defaultdict(<function <lambda> at 0x10eb5a488>, {'A': 43, 'C': 46, 'B': 43, 'E': 56, 'D': 46, 'G': 38, 'F': 38, 'I': 38, 'H': 38, 'K': 75, 'J': 39}) 9748.19621626\n",
        "defaultdict(<function <lambda> at 0x10efe6050>, {'A': 43, 'C': 45, 'B': 43, 'E': 57, 'D': 46, 'G': 38, 'F': 38, 'I': 39, 'H': 38, 'K': 75, 'J': 38}) 9288.74889213\n",
        "defaultdict(<function <lambda> at 0x10eb5a488>, {'A': 43, 'C': 46, 'B': 43, 'E': 57, 'D': 45, 'G': 38, 'F': 38, 'I': 38, 'H': 38, 'K': 76, 'J': 38}) 8827.26039867\n",
        "defaultdict(<function <lambda> at 0x10efe6050>, {'A': 43, 'C': 46, 'B': 43, 'E': 57, 'D': 46, 'G': 38, 'F': 38, 'I': 38, 'H': 38, 'K': 75, 'J': 38}) 8363.71939873\n",
        "defaultdict(<function <lambda> at 0x10eb5a488>, {'A': 43, 'C': 46, 'B': 42, 'E': 57, 'D': 46, 'G': 38, 'F': 38, 'I': 38, 'H': 38, 'K': 76, 'J': 38}) 7898.11845264\n",
        "defaultdict(<function <lambda> at 0x10efe6050>, {'A': 42, 'C': 46, 'B': 43, 'E': 57, 'D': 46, 'G': 38, 'F': 38, 'I': 38, 'H': 38, 'K': 76, 'J': 38}) 7430.44794706\n",
        "defaultdict(<function <lambda> at 0x10eb5a488>, {'A': 43, 'C': 46, 'B': 43, 'E': 56, 'D': 46, 'G': 38, 'F': 38, 'I': 38, 'H': 38, 'K': 76, 'J': 38}) 6960.69698522\n",
        "defaultdict(<function <lambda> at 0x10efe6050>, {'A': 43, 'C': 46, 'B': 43, 'E': 57, 'D': 46, 'G': 38, 'F': 38, 'I': 38, 'H': 38, 'K': 75, 'J': 38}) 6488.85494433\n",
        "defaultdict(<function <lambda> at 0x10eb5a488>, {'A': 43, 'C': 45, 'B': 43, 'E': 57, 'D': 45, 'G': 38, 'F': 38, 'I': 38, 'H': 38, 'K': 77, 'J': 38}) 6014.91568139\n",
        "defaultdict(<function <lambda> at 0x10efe6050>, {'A': 43, 'C': 46, 'B': 43, 'E': 57, 'D': 46, 'G': 38, 'F': 38, 'I': 37, 'H': 38, 'K': 76, 'J': 38}) 5538.86858259"
       ]
      },
      {
       "output_type": "stream",
       "stream": "stdout",
       "text": [
        "\n",
        "defaultdict(<function <lambda> at 0x10eb5a488>, {'A': 42, 'C': 46, 'B': 42, 'E': 58, 'D': 46, 'G': 38, 'F': 38, 'I': 38, 'H': 38, 'K': 76, 'J': 38}) 5060.70438323\n",
        "defaultdict(<function <lambda> at 0x10efe6050>, {'A': 43, 'C': 46, 'B': 43, 'E': 57, 'D': 46, 'G': 38, 'F': 38, 'I': 38, 'H': 38, 'K': 76, 'J': 37}) 4580.41262128\n",
        "defaultdict(<function <lambda> at 0x10eb5a488>, {'A': 43, 'C': 46, 'B': 43, 'E': 57, 'D': 46, 'G': 37, 'F': 38, 'I': 38, 'H': 37, 'K': 77, 'J': 38}) 4097.98616345\n",
        "defaultdict(<function <lambda> at 0x10efe6050>, {'A': 43, 'C': 45, 'B': 43, 'E': 57, 'D': 46, 'G': 38, 'F': 37, 'I': 38, 'H': 38, 'K': 77, 'J': 38}) 3613.41405711\n",
        "defaultdict(<function <lambda> at 0x10eb5a488>, {'A': 42, 'C': 46, 'B': 43, 'E': 58, 'D': 46, 'G': 38, 'F': 38, 'I': 37, 'H': 38, 'K': 77, 'J': 37}) 3126.68850936\n",
        "defaultdict(<function <lambda> at 0x10efe6050>, {'A': 43, 'C': 46, 'B': 42, 'E': 57, 'D': 45, 'G': 38, 'F': 38, 'I': 38, 'H': 38, 'K': 77, 'J': 38}) 2637.79658394\n",
        "defaultdict(<function <lambda> at 0x10eb5a488>, {'A': 42, 'C': 45, 'B': 42, 'E': 56, 'D': 45, 'G': 36, 'F': 36, 'I': 36, 'H': 36, 'K': 75, 'J': 36, 'L': 15}) 2146.76105317\n",
        "defaultdict(<function <lambda> at 0x10efe6050>, {'A': 37, 'C': 39, 'B': 37, 'E': 50, 'D': 39, 'G': 32, 'F': 33, 'I': 33, 'H': 33, 'K': 67, 'J': 33, 'L': 67}) 1653.6654809\n",
        "defaultdict(<function <lambda> at 0x10eb5a488>, {'A': 37, 'C': 40, 'B': 37, 'E': 50, 'D': 40, 'G': 33, 'F': 32, 'I': 32, 'H': 32, 'K': 67, 'J': 33, 'L': 67}) 1158.50258536\n",
        "defaultdict(<function <lambda> at 0x10efe6050>, {'A': 36, 'C': 40, 'B': 37, 'E': 49, 'D': 40, 'G': 33, 'F': 33, 'I': 33, 'H': 33, 'K': 67, 'J': 32, 'L': 67}) 661.260522285"
       ]
      },
      {
       "output_type": "stream",
       "stream": "stdout",
       "text": [
        "\n",
        "defaultdict(<function <lambda> at 0x10eb5a488>, {'A': 38, 'C': 40, 'B': 37, 'E': 50, 'D': 40, 'G': 32, 'F': 32, 'I': 32, 'H': 32, 'K': 67, 'J': 33, 'L': 67}) 161.933155393\n",
        "defaultdict(<function <lambda> at 0x10efe6050>, {'A': 344, 'C': 13, 'B': 12, 'E': 17, 'D': 13, 'G': 11, 'F': 11, 'I': 11, 'H': 11, 'K': 23, 'J': 11, 'L': 23}) 0.0\n"
       ]
      }
     ],
     "prompt_number": 6
    },
    {
     "cell_type": "code",
     "collapsed": false,
     "input": [],
     "language": "python",
     "metadata": {},
     "outputs": [],
     "prompt_number": 10
    },
    {
     "cell_type": "code",
     "collapsed": false,
     "input": [],
     "language": "python",
     "metadata": {},
     "outputs": [],
     "prompt_number": 7
    },
    {
     "cell_type": "code",
     "collapsed": false,
     "input": [],
     "language": "python",
     "metadata": {},
     "outputs": [],
     "prompt_number": 6
    },
    {
     "cell_type": "code",
     "collapsed": false,
     "input": [],
     "language": "python",
     "metadata": {},
     "outputs": [],
     "prompt_number": 6
    },
    {
     "cell_type": "code",
     "collapsed": false,
     "input": [],
     "language": "python",
     "metadata": {},
     "outputs": [],
     "prompt_number": 6
    },
    {
     "cell_type": "code",
     "collapsed": false,
     "input": [],
     "language": "python",
     "metadata": {},
     "outputs": []
    }
   ],
   "metadata": {}
  }
 ]
}