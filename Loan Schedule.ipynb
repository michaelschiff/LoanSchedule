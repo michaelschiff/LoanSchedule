{
 "metadata": {
  "name": "",
  "signature": "sha256:1866c17c5bd75f709ff9244be5c61b2c9d53b72ac0f30d9b4fa64d8cd7a68a43"
 },
 "nbformat": 3,
 "nbformat_minor": 0,
 "worksheets": [
  {
   "cells": [
    {
     "cell_type": "heading",
     "level": 1,
     "metadata": {},
     "source": [
      "Optimal Loan Payment Scheduling"
     ]
    },
    {
     "cell_type": "code",
     "collapsed": false,
     "input": [
      "def compound_interest(principle, rate, periods):\n",
      "    return principle * ((1+rate)**periods)"
     ],
     "language": "python",
     "metadata": {},
     "outputs": [],
     "prompt_number": 1
    },
    {
     "cell_type": "code",
     "collapsed": false,
     "input": [
      "L = {\n",
      "    'A': (5.75, 1604.34),\n",
      "    'B': (5.75, 1604.34),\n",
      "    'C': (5.35, 2056.66),\n",
      "    'D': (5.35, 2056.77),\n",
      "    'E': (4.25, 4997.91),\n",
      "    'F': (6.55, 1072.94),\n",
      "    'G': (6.55, 1072.92),\n",
      "    'H': (6.55, 1072.94),\n",
      "    'I': (6.55, 1072.42),\n",
      "    'J': (6.55, 2134.74),\n",
      "    'K': (3.15, 4853.32),\n",
      "    'L': (3.15, 268.08)\n",
      "}"
     ],
     "language": "python",
     "metadata": {},
     "outputs": [],
     "prompt_number": 2
    },
    {
     "cell_type": "markdown",
     "metadata": {},
     "source": [
      "Assume we are willing to put $X/period to our loans.  When deciding which loan to allocate that dollar to, we want to choose the loan that has the highest marginal cost of not allocating the dollar to it.  This is the loan that is contributing the most toward to total Future Value of the loans, or the loan for which (principle * interest) is the highest.  For each dollar we need to allocate, we can check which loan is contributing the most toward the total Future Value, and allocate the dollar to that loan."
     ]
    },
    {
     "cell_type": "code",
     "collapsed": false,
     "input": [
      "from collections import defaultdict\n",
      "# Returns the loan with the greatest contribution to Future Value\n",
      "def max_loan(loans):\n",
      "    return max(loans, key = lambda key: loans[key][0] * loans[key][1])\n",
      "    \n",
      "    \n",
      "# given money, the set of loans, and a granularity of money, returns an allocation of money and \n",
      "# mutates the loans.\n",
      "def allocate(money, loans, granularity):\n",
      "    allocation = defaultdict(lambda : 0)\n",
      "    for i in range(money):\n",
      "        loan = max_loan(loans)\n",
      "        allocation[loan] += 1\n",
      "        loans[loan] = (loans[loan][0], loans[loan][1] - granularity)\n",
      "    return allocation"
     ],
     "language": "python",
     "metadata": {},
     "outputs": [],
     "prompt_number": 3
    },
    {
     "cell_type": "code",
     "collapsed": false,
     "input": [
      "for i in range(10):\n",
      "    allocation = allocate(5, L, 100)\n",
      "    print allocation"
     ],
     "language": "python",
     "metadata": {},
     "outputs": [
      {
       "output_type": "stream",
       "stream": "stdout",
       "text": [
        "defaultdict(<function <lambda> at 0x1053927d0>, {'E': 5})\n",
        "defaultdict(<function <lambda> at 0x1053929b0>, {'E': 5})\n",
        "defaultdict(<function <lambda> at 0x1053927d0>, {'E': 5})\n",
        "defaultdict(<function <lambda> at 0x1053929b0>, {'K': 3, 'E': 2})\n",
        "defaultdict(<function <lambda> at 0x1053927d0>, {'K': 3, 'J': 1, 'E': 1})\n",
        "defaultdict(<function <lambda> at 0x1053929b0>, {'K': 2, 'J': 1, 'E': 2})\n",
        "defaultdict(<function <lambda> at 0x1053927d0>, {'K': 2, 'J': 1, 'E': 2})\n",
        "defaultdict(<function <lambda> at 0x1053929b0>, {'K': 3, 'J': 1, 'E': 1})\n",
        "defaultdict(<function <lambda> at 0x1053927d0>, {'K': 1, 'J': 1, 'E': 2, 'D': 1})\n",
        "defaultdict(<function <lambda> at 0x1053929b0>, {'C': 1, 'J': 1, 'E': 1, 'K': 2})\n"
       ]
      }
     ],
     "prompt_number": 6
    },
    {
     "cell_type": "code",
     "collapsed": false,
     "input": [],
     "language": "python",
     "metadata": {},
     "outputs": []
    }
   ],
   "metadata": {}
  }
 ]
}